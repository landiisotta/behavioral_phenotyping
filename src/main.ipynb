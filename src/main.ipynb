{
 "cells": [
  {
   "cell_type": "markdown",
   "metadata": {},
   "source": [
    "# Behavioral profile stratification via unsupervised learning"
   ]
  },
  {
   "cell_type": "code",
   "execution_count": 1,
   "metadata": {
    "collapsed": true
   },
   "outputs": [
    {
     "name": "stdout",
     "output_type": "stream",
     "text": [
      "Created directory /odf-data: 2019-07-08-22-19-46\n",
      "\n"
     ]
    }
   ],
   "source": [
    "from dataset import access_db, demographics, data_path\n",
    "from features import *"
   ]
  },
  {
   "cell_type": "markdown",
   "metadata": {},
   "source": [
    "### Package `dataset`\n",
    "\n",
    "**Access odf-lab database**\n",
    "\n",
    ":return:\n",
    "- `list` of Patient class objects\n",
    "- `dictionary` of Pencounters objects per patient\n",
    "- `dictionary` of pandas dataframes per table in the DB\n",
    "\n",
    "**Compute standard demographic statistics**"
   ]
  },
  {
   "cell_type": "code",
   "execution_count": 2,
   "metadata": {},
   "outputs": [],
   "source": [
    "subj_list, p_enc, df_dict = access_db()"
   ]
  },
  {
   "cell_type": "code",
   "execution_count": 3,
   "metadata": {},
   "outputs": [
    {
     "name": "stdout",
     "output_type": "stream",
     "text": [
      "Period span: 01/05/2013 -- 31/10/2018\n",
      "\n",
      "N of subjects: 205\n",
      "\n",
      "Average number of assessments: 5.522\n",
      "Median number of assessments: 5.0\n",
      "Maximum number of assessments: 24\n",
      "Minimum number of assessments: 1\n",
      "\n",
      "Average number of encounters: 1.439\n",
      "Median number of assessments: 1.0\n",
      "Maximum number of assessments: 5\n",
      "Minimum number of assessments: 1\n",
      "\n",
      "Instrument list:\n",
      "griffithsmentaldevelopmentscales\n",
      "ados-2modulo1\n",
      "wppsi-iiifascia40-73\n",
      "ados-2modulotoddler\n",
      "leiterinternationalperformancescale-revised\n",
      "wisc-iv\n",
      "ados-2modulo2\n",
      "srs\n",
      "ados-2modulo3\n",
      "wppsi-iiifascia26-311\n",
      "psi-sf\n",
      "wppsi\n",
      "wisc-iii\n",
      "wais-iv\n",
      "vineland-ii\n",
      "emotionalavailabilityscales\n",
      "N of selected instruments: 16\n",
      "\n",
      "\n",
      "Mean age of the subjects: 11.054212729030509 -- Standard deviation: 5.097775697784719\n",
      "N Female: 34 -- N Male: 171\n",
      "\n"
     ]
    }
   ],
   "source": [
    "demographics(subj_list, p_enc)"
   ]
  },
  {
   "cell_type": "markdown",
   "metadata": {},
   "source": [
    "### Package `features`\n",
    "\n",
    "**Create raw behavioral ehrs**\n",
    "\n",
    ":parameters:\n",
    "\n",
    "`dictionary` of dataframes per table in the DB\n",
    "\n",
    ":return:\n",
    "\n",
    "`dictionary` list of [Pinfo, behavioral tokens ordered wrt date of assessment]\n",
    "\n",
    "**Filter tokens from raw behavioral ehrs according to depth level**\n",
    "\n",
    ":parameters:\n",
    "\n",
    "`dictionary` list of [Pinfo, behavioral tokens] per subject\n",
    "\n",
    ":return:\n",
    "\n",
    "`dictionary` list of [Pinfo, filtered tokens wrt the level]\n",
    "\n",
    "**Create BEHRs and vocabulary**\n",
    "\n",
    "* `create_vocabulary`\n",
    "\n",
    "    :parameters:\n",
    "\n",
    "    `dictionary` list of [Pinfo, tokens] per subject\n",
    "    \n",
    "    `int` level\n",
    "\n",
    "    :return:\n",
    "\n",
    "    `dictionaries` idx to term, term to idx\n",
    "    \n",
    "* `create_behr`\n",
    "\n",
    "    :parameters:\n",
    "    \n",
    "    `dictionary` list of [Pinfo, tokens] per subject\n",
    "    \n",
    "    `int` level\n",
    "    \n",
    "    :return:\n",
    "    \n",
    "    `dictionary` of list of tuples (DOA, [instrument tokens]) per subject\n",
    "    \n",
    "**Create feature data (quantitative scores)**\n",
    "\n",
    "* `create_features_data`\n",
    "\n",
    "    :parameters:\n",
    "    \n",
    "    `dictionary` output of behr_level4\n",
    "    \n",
    "    :return:\n",
    "    \n",
    "    mean-imputed dataframe\n",
    "    \n",
    "    normalized (column-wise) dataframe"
   ]
  },
  {
   "cell_type": "code",
   "execution_count": 4,
   "metadata": {},
   "outputs": [
    {
     "name": "stdout",
     "output_type": "stream",
     "text": [
      "Average length of behavioral sequences: 5.522\n",
      "\n"
     ]
    }
   ],
   "source": [
    "raw_behr = create_tokens(df_dict)"
   ]
  },
  {
   "cell_type": "markdown",
   "metadata": {},
   "source": [
    "### Behavioral EHRs Level-1"
   ]
  },
  {
   "cell_type": "code",
   "execution_count": 5,
   "metadata": {},
   "outputs": [],
   "source": [
    "lev1 = behr_level1(raw_behr)"
   ]
  },
  {
   "cell_type": "code",
   "execution_count": 6,
   "metadata": {},
   "outputs": [
    {
     "name": "stdout",
     "output_type": "stream",
     "text": [
      "Vocabulary size:1349\n",
      "\n"
     ]
    }
   ],
   "source": [
    "lab1_to_idx, idx_to_lab1 = create_vocabulary(lev1, level=1)\n",
    "out_behr_lev1 = create_behr(lev1, lab1_to_idx, level=1)"
   ]
  },
  {
   "cell_type": "markdown",
   "metadata": {},
   "source": [
    "### Behavioral EHRs Level-2"
   ]
  },
  {
   "cell_type": "code",
   "execution_count": 7,
   "metadata": {},
   "outputs": [],
   "source": [
    "lev2 = behr_level2(raw_behr)"
   ]
  },
  {
   "cell_type": "code",
   "execution_count": 8,
   "metadata": {},
   "outputs": [
    {
     "name": "stdout",
     "output_type": "stream",
     "text": [
      "Vocabulary size:1198\n",
      "\n"
     ]
    }
   ],
   "source": [
    "lab2_to_idx, idx_to_lab2 = create_vocabulary(lev2, level=2)\n",
    "out_behr_lev2 = create_behr(lev2, lab2_to_idx, level=2)"
   ]
  },
  {
   "cell_type": "markdown",
   "metadata": {},
   "source": [
    "### Behavioral EHRs Level-3"
   ]
  },
  {
   "cell_type": "code",
   "execution_count": 9,
   "metadata": {},
   "outputs": [],
   "source": [
    "lev3 = behr_level3(raw_behr)"
   ]
  },
  {
   "cell_type": "code",
   "execution_count": 10,
   "metadata": {},
   "outputs": [
    {
     "name": "stdout",
     "output_type": "stream",
     "text": [
      "Vocabulary size:514\n",
      "\n"
     ]
    }
   ],
   "source": [
    "lab3_to_idx, idx_to_lab3 = create_vocabulary(lev3, level=3)\n",
    "out_behr_lev3 = create_behr(lev3, lab3_to_idx, level=3)"
   ]
  },
  {
   "cell_type": "markdown",
   "metadata": {},
   "source": [
    "### Behavioral EHRs Level-4"
   ]
  },
  {
   "cell_type": "code",
   "execution_count": 11,
   "metadata": {},
   "outputs": [],
   "source": [
    "lev4 = behr_level4(raw_behr)"
   ]
  },
  {
   "cell_type": "code",
   "execution_count": 12,
   "metadata": {},
   "outputs": [
    {
     "name": "stdout",
     "output_type": "stream",
     "text": [
      "Vocabulary size:1167\n",
      "\n"
     ]
    }
   ],
   "source": [
    "lab4_to_idx, idx_to_lab4 = create_vocabulary(lev4, level=4)\n",
    "out_behr_lev4 = create_behr(lev4, lab4_to_idx, level=4)"
   ]
  },
  {
   "cell_type": "markdown",
   "metadata": {},
   "source": [
    "### Feature data Level-4"
   ]
  },
  {
   "cell_type": "code",
   "execution_count": 13,
   "metadata": {},
   "outputs": [],
   "source": [
    "feat_df, feat_scaled_df = create_features_data(lev4)"
   ]
  },
  {
   "cell_type": "markdown",
   "metadata": {},
   "source": [
    "# Patient embeddings"
   ]
  },
  {
   "cell_type": "code",
   "execution_count": 14,
   "metadata": {},
   "outputs": [],
   "source": [
    "from pt_embedding import Pembeddings"
   ]
  },
  {
   "cell_type": "code",
   "execution_count": 15,
   "metadata": {},
   "outputs": [],
   "source": [
    "model = Pembeddings(out_behr_lev4, idx_to_lab4)"
   ]
  },
  {
   "cell_type": "code",
   "execution_count": 16,
   "metadata": {},
   "outputs": [
    {
     "name": "stdout",
     "output_type": "stream",
     "text": [
      "Performing SVD on the TF-IDF matrix...\n",
      "epoch 0, error 0.011\n"
     ]
    }
   ],
   "source": [
    "svd_pid_list, svd_mtx = model.tfidf()\n",
    "glove_pid_list, glove_emb = model.glove_pemb()"
   ]
  }
 ],
 "metadata": {
  "kernelspec": {
   "display_name": "Python 3",
   "language": "python",
   "name": "python3"
  },
  "language_info": {
   "codemirror_mode": {
    "name": "ipython",
    "version": 3
   },
   "file_extension": ".py",
   "mimetype": "text/x-python",
   "name": "python",
   "nbconvert_exporter": "python",
   "pygments_lexer": "ipython3",
   "version": "3.6.8"
  }
 },
 "nbformat": 4,
 "nbformat_minor": 2
}
