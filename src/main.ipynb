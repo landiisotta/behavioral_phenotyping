{
 "cells": [
  {
   "cell_type": "markdown",
   "metadata": {},
   "source": [
    "# Behavioral profile stratification via unsupervised learning"
   ]
  },
  {
   "cell_type": "code",
   "execution_count": 1,
   "metadata": {
    "collapsed": true
   },
   "outputs": [
    {
     "name": "stdout",
     "output_type": "stream",
     "text": [
      "Created directory /odf-data: 2019-07-04-12-53-56\n",
      "\n"
     ]
    }
   ],
   "source": [
    "from dataset import access_db, demographics, data_path\n",
    "from features import *"
   ]
  },
  {
   "cell_type": "markdown",
   "metadata": {},
   "source": [
    "* Access odf-lab database "
   ]
  },
  {
   "cell_type": "code",
   "execution_count": 2,
   "metadata": {},
   "outputs": [],
   "source": [
    "subj_list, p_enc, df_dict = access_db()"
   ]
  },
  {
   "cell_type": "code",
   "execution_count": 3,
   "metadata": {},
   "outputs": [
    {
     "name": "stdout",
     "output_type": "stream",
     "text": [
      "Period span: 01/05/2013 -- 31/10/2018\n",
      "\n",
      "N of subjects: 205\n",
      "\n",
      "Average number of assessments: 5.522\n",
      "Median number of assessments: 5.0\n",
      "Maximum number of assessments: 24\n",
      "Minimum number of assessments: 1\n",
      "\n",
      "Average number of encounters: 1.439\n",
      "Median number of assessments: 1.0\n",
      "Maximum number of assessments: 5\n",
      "Minimum number of assessments: 1\n",
      "\n",
      "Instrument list:\n",
      "wisc-iii\n",
      "ados-2modulo2\n",
      "wppsi-iiifascia40-73\n",
      "wisc-iv\n",
      "ados-2modulotoddler\n",
      "srs\n",
      "psi-sf\n",
      "wppsi\n",
      "wais-iv\n",
      "ados-2modulo1\n",
      "emotionalavailabilityscales\n",
      "leiterinternationalperformancescale-revised\n",
      "ados-2modulo3\n",
      "griffithsmentaldevelopmentscales\n",
      "wppsi-iiifascia26-311\n",
      "vineland-ii\n",
      "N of selected instruments: 16\n",
      "\n",
      "\n",
      "Mean age of the subjects: 11.043261101002557 -- Standard deviation: 5.097775697784719\n",
      "N Female: 34 -- N Male: 171\n",
      "\n"
     ]
    }
   ],
   "source": [
    "demographics(subj_list, p_enc)"
   ]
  },
  {
   "cell_type": "code",
   "execution_count": 4,
   "metadata": {},
   "outputs": [
    {
     "name": "stdout",
     "output_type": "stream",
     "text": [
      "Average length of behavioral sequences: 5.522\n",
      "\n"
     ]
    }
   ],
   "source": [
    "behr = create_tokens(df_dict)"
   ]
  },
  {
   "cell_type": "code",
   "execution_count": 5,
   "metadata": {},
   "outputs": [],
   "source": [
    "lev1 = behr_level1(behr)"
   ]
  },
  {
   "cell_type": "code",
   "execution_count": 6,
   "metadata": {},
   "outputs": [],
   "source": [
    "lev2 = behr_level2(behr)"
   ]
  },
  {
   "cell_type": "code",
   "execution_count": 7,
   "metadata": {},
   "outputs": [],
   "source": [
    "lev3 = behr_level3(behr)"
   ]
  },
  {
   "cell_type": "code",
   "execution_count": 8,
   "metadata": {},
   "outputs": [],
   "source": [
    "lev4 = behr_level4(behr)"
   ]
  },
  {
   "cell_type": "code",
   "execution_count": 9,
   "metadata": {},
   "outputs": [
    {
     "name": "stdout",
     "output_type": "stream",
     "text": [
      "Vocabulary size:1349\n",
      "\n",
      "Vocabulary size:1198\n",
      "\n",
      "Vocabulary size:514\n",
      "\n",
      "Vocabulary size:1167\n",
      "\n"
     ]
    }
   ],
   "source": [
    "v1, _ = create_vocabulary(lev1, level=1)\n",
    "v2, _ = create_vocabulary(lev2, level=2)\n",
    "v3, _ = create_vocabulary(lev3, level=3)\n",
    "v4, _ = create_vocabulary(lev4, level=4)"
   ]
  },
  {
   "cell_type": "code",
   "execution_count": 10,
   "metadata": {},
   "outputs": [],
   "source": [
    "out_behr_lev1 = create_behr(lev1, v1, level=1)\n",
    "out_behr_lev2 = create_behr(lev2, v2, level=2)\n",
    "out_behr_lev3 = create_behr(lev3, v3, level=3)\n",
    "out_behr_lev4 = create_behr(lev4, v4, level=4)"
   ]
  },
  {
   "cell_type": "code",
   "execution_count": null,
   "metadata": {},
   "outputs": [],
   "source": []
  }
 ],
 "metadata": {
  "kernelspec": {
   "display_name": "Python 3",
   "language": "python",
   "name": "python3"
  },
  "language_info": {
   "codemirror_mode": {
    "name": "ipython",
    "version": 3
   },
   "file_extension": ".py",
   "mimetype": "text/x-python",
   "name": "python",
   "nbconvert_exporter": "python",
   "pygments_lexer": "ipython3",
   "version": "3.6.8"
  }
 },
 "nbformat": 4,
 "nbformat_minor": 2
}
