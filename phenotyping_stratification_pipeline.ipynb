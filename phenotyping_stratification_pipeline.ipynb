{
 "cells": [
  {
   "cell_type": "markdown",
   "metadata": {},
   "source": [
    "# Behavioral Profile Stratification via Unsupervised learning"
   ]
  },
  {
   "cell_type": "markdown",
   "metadata": {},
   "source": [
    "### TODO\n",
    "\n",
    "> Please report some description here about the pipeline and what I am going to find in the notebook"
   ]
  },
  {
   "cell_type": "markdown",
   "metadata": {},
   "source": [
    "## Step 1: Data Loading\n",
    "\n",
    "> Short description here - and notes on Data Accessibility"
   ]
  },
  {
   "cell_type": "code",
   "execution_count": null,
   "metadata": {},
   "outputs": [],
   "source": [
    "from dataset import access_db, demographics\n",
    "#  from dataset import data_path  - COMMENTED as it is never used, apparently"
   ]
  },
  {
   "cell_type": "code",
   "execution_count": 2,
   "metadata": {},
   "outputs": [],
   "source": [
    "subj_list, p_enc, df_dict = access_db()"
   ]
  },
  {
   "cell_type": "code",
   "execution_count": 3,
   "metadata": {},
   "outputs": [
    {
     "name": "stdout",
     "output_type": "stream",
     "text": [
      "Period span: 01/05/2013 -- 31/10/2018\n",
      "\n",
      "N of subjects: 205\n",
      "\n",
      "Average number of assessments: 5.522\n",
      "Median number of assessments: 5.0\n",
      "Maximum number of assessments: 24\n",
      "Minimum number of assessments: 1\n",
      "\n",
      "Average number of encounters: 1.439\n",
      "Median number of encounters: 1.0\n",
      "Maximum number of encounters: 5\n",
      "Minimum number of encounters: 1\n",
      "\n",
      "Instrument list:\n",
      "leiterinternationalperformancescale-revised\n",
      "wppsi-iiifascia40-73\n",
      "ados-2modulo2\n",
      "wisc-iii\n",
      "ados-2modulotoddler\n",
      "griffithsmentaldevelopmentscales\n",
      "wisc-iv\n",
      "psi-sf\n",
      "emotionalavailabilityscales\n",
      "wppsi-iiifascia26-311\n",
      "wais-iv\n",
      "ados-2modulo3\n",
      "wppsi\n",
      "ados-2modulo1\n",
      "srs\n",
      "vineland-ii\n",
      "N of selected instruments: 16\n",
      "\n",
      "\n",
      "Mean age of the subjects: 11.06242645005148 -- Standard deviation: 5.097775697784719\n",
      "N Female: 34 -- N Male: 171\n",
      "\n"
     ]
    }
   ],
   "source": [
    "demographics(subj_list, p_enc)"
   ]
  },
  {
   "cell_type": "markdown",
   "metadata": {},
   "source": [
    "## Step 2: Feature Processing\n",
    "\n",
    "> Short description here"
   ]
  },
  {
   "cell_type": "code",
   "execution_count": null,
   "metadata": {},
   "outputs": [],
   "source": [
    "from features import (create_tokens, behr_level4, \n",
    "                      create_vocabulary, create_features_data)\n",
    "\n",
    "# SIDENOTE: I am not a huge fan of import * - so let's make it crystal clear"
   ]
  },
  {
   "cell_type": "code",
   "execution_count": 4,
   "metadata": {},
   "outputs": [
    {
     "name": "stdout",
     "output_type": "stream",
     "text": [
      "Average length of behavioral sequences: 5.488\n",
      "\n"
     ]
    }
   ],
   "source": [
    "raw_behr = create_tokens(df_dict)"
   ]
  },
  {
   "cell_type": "code",
   "execution_count": 5,
   "metadata": {},
   "outputs": [],
   "source": [
    "lev4 = behr_level4(raw_behr)"
   ]
  },
  {
   "cell_type": "code",
   "execution_count": 6,
   "metadata": {},
   "outputs": [
    {
     "name": "stdout",
     "output_type": "stream",
     "text": [
      "Vocabulary size:1167\n",
      "\n"
     ]
    }
   ],
   "source": [
    "lab4_to_idx, idx_to_lab4 = create_vocabulary(lev4, level=4)\n",
    "out_behr_lev4 = create_behr(lev4, lab4_to_idx, level=4)"
   ]
  },
  {
   "cell_type": "code",
   "execution_count": 7,
   "metadata": {},
   "outputs": [],
   "source": [
    "feat_df, feat_scaled_df = create_features_data(lev4)"
   ]
  },
  {
   "cell_type": "markdown",
   "metadata": {},
   "source": [
    "---"
   ]
  },
  {
   "cell_type": "markdown",
   "metadata": {},
   "source": [
    "## Step 3: Embeddings\n",
    "\n",
    "> Short description here"
   ]
  },
  {
   "cell_type": "code",
   "execution_count": null,
   "metadata": {},
   "outputs": [],
   "source": [
    "from pt_embedding import Pembeddings"
   ]
  },
  {
   "cell_type": "code",
   "execution_count": 8,
   "metadata": {},
   "outputs": [],
   "source": [
    "model = Pembeddings(out_behr_lev4, idx_to_lab4)"
   ]
  },
  {
   "cell_type": "code",
   "execution_count": 9,
   "metadata": {},
   "outputs": [
    {
     "name": "stdout",
     "output_type": "stream",
     "text": [
      "Performing SVD on the TF-IDF matrix...\n",
      "\n",
      "Training Glove embeddings...\n",
      "epoch 0, error 0.010\n",
      "epoch 10, error 0.007\n",
      "epoch 20, error 0.006\n",
      "epoch 30, error 0.005\n",
      "epoch 40, error 0.005\n",
      "epoch 50, error 0.005\n",
      "epoch 60, error 0.005\n",
      "epoch 70, error 0.005\n",
      "epoch 80, error 0.005\n",
      "epoch 90, error 0.005\n"
     ]
    }
   ],
   "source": [
    "svd_pid_list_l4, svd_mtx_l4 = model.tfidf()\n",
    "glove_pid_list_l4, glove_emb_l4 = model.glove_pemb()"
   ]
  },
  {
   "cell_type": "markdown",
   "metadata": {},
   "source": [
    "---"
   ]
  },
  {
   "cell_type": "markdown",
   "metadata": {},
   "source": [
    "## Step 4: Clustering\n",
    "\n",
    "> Short description here"
   ]
  },
  {
   "cell_type": "code",
   "execution_count": null,
   "metadata": {},
   "outputs": [],
   "source": [
    "from clustering import HclustEmbeddings, HclustFeatures"
   ]
  },
  {
   "cell_type": "code",
   "execution_count": 10,
   "metadata": {},
   "outputs": [],
   "source": [
    "hclust_emb = HclustEmbeddings(min_cl=ut.min_cl, max_cl=ut.max_cl, \n",
    "                              affinity='euclidean', linkage='ward')"
   ]
  },
  {
   "cell_type": "markdown",
   "metadata": {},
   "source": [
    "### `TF-IDF` Embedding"
   ]
  },
  {
   "cell_type": "code",
   "execution_count": 11,
   "metadata": {},
   "outputs": [
    {
     "name": "stdout",
     "output_type": "stream",
     "text": [
      "(*) Iter 0 -- N clusters 4\n",
      "Counts of N clusters:\n",
      "N clusters -- Count\n",
      "4 1\n",
      "\n",
      "Best N cluster:4\n"
     ]
    }
   ],
   "source": [
    "# TFIDF EMBEDDING\n",
    "tfidf_best_cl = hclust_emb.find_best_nclu(svd_mtx_l4, n_iter=ut.n_iter, \n",
    "                                          subsampl=ut.subsampl)"
   ]
  },
  {
   "cell_type": "code",
   "execution_count": 12,
   "metadata": {},
   "outputs": [
    {
     "name": "stdout",
     "output_type": "stream",
     "text": [
      "(*) Number of clusters 4 -- Silhouette score 0.34\n",
      "Cluster 0 -- Numerosity 177\n",
      "Cluster 1 -- Numerosity 15\n",
      "Cluster 2 -- Numerosity 7\n",
      "Cluster 3 -- Numerosity 4\n",
      "\n",
      "\n",
      "\n",
      "\n"
     ]
    }
   ],
   "source": [
    "tfidf_subc = hclust_emb.fit(svd_mtx_l4, svd_pid_list_l4, tfidf_best_cl)"
   ]
  },
  {
   "cell_type": "markdown",
   "metadata": {},
   "source": [
    "### `Glove` Embedding"
   ]
  },
  {
   "cell_type": "code",
   "execution_count": 13,
   "metadata": {},
   "outputs": [
    {
     "name": "stdout",
     "output_type": "stream",
     "text": [
      "(*) Iter 0 -- N clusters 3\n",
      "Counts of N clusters:\n",
      "N clusters -- Count\n",
      "3 1\n",
      "\n",
      "Best N cluster:3\n"
     ]
    }
   ],
   "source": [
    "# GLOVE EMBEDDING\n",
    "glv_best_cl = hclust_emb.find_best_nclu(glove_emb_l4, n_iter=ut.n_iter, subsampl=ut.subsampl)"
   ]
  },
  {
   "cell_type": "code",
   "execution_count": 14,
   "metadata": {},
   "outputs": [
    {
     "name": "stdout",
     "output_type": "stream",
     "text": [
      "(*) Number of clusters 3 -- Silhouette score 0.47\n",
      "Cluster 0 -- Numerosity 117\n",
      "Cluster 1 -- Numerosity 71\n",
      "Cluster 2 -- Numerosity 15\n",
      "\n",
      "\n",
      "\n",
      "\n"
     ]
    }
   ],
   "source": [
    "glv_subc = hclust_emb.fit(glove_emb_l4, glove_pid_list_l4, glv_best_cl)"
   ]
  },
  {
   "cell_type": "markdown",
   "metadata": {},
   "source": [
    "### Clustering and Feature Representation\n",
    "\n",
    "> Short description here"
   ]
  },
  {
   "cell_type": "code",
   "execution_count": 15,
   "metadata": {},
   "outputs": [],
   "source": [
    "hclust_feat = HclustFeatures(min_cl=ut.min_cl, max_cl=ut.max_cl, \n",
    "                             affinity='euclidean', linkage='ward')"
   ]
  },
  {
   "cell_type": "code",
   "execution_count": 16,
   "metadata": {},
   "outputs": [
    {
     "name": "stdout",
     "output_type": "stream",
     "text": [
      "(*) Iter 0 -- N clusters 3\n",
      "Counts of N clusters:\n",
      "N clusters -- Count\n",
      "3 1\n",
      "\n",
      "Best N cluster:3\n"
     ]
    }
   ],
   "source": [
    "# FEATURES REPRESENTATION\n",
    "feat_best_cl = hclust_feat.find_best_nclu(feat_scaled_df, n_iter=ut.n_iter, subsampl=ut.subsampl)"
   ]
  },
  {
   "cell_type": "code",
   "execution_count": 17,
   "metadata": {},
   "outputs": [
    {
     "name": "stdout",
     "output_type": "stream",
     "text": [
      "(*) Number of clusters 3 -- Silhouette score 0.24\n",
      "Cluster 0 -- Numerosity 177\n",
      "Cluster 1 -- Numerosity 1\n",
      "Cluster 2 -- Numerosity 25\n",
      "\n",
      "\n",
      "\n",
      "\n"
     ]
    }
   ],
   "source": [
    "feat_subc = hclust_feat.fit(feat_scaled_df, feat_best_cl)"
   ]
  },
  {
   "cell_type": "markdown",
   "metadata": {},
   "source": [
    "## Step 5: Visualisation \n",
    "\n",
    "> Short description here"
   ]
  },
  {
   "cell_type": "code",
   "execution_count": null,
   "metadata": {},
   "outputs": [],
   "source": [
    "from bokeh.plotting import figure, ColumnDataSource, show, output_notebook\n",
    "from bokeh.models import CategoricalColorMapper, HoverTool\n",
    "from bokeh.models import (LinearColorMapper, BasicTicker, PrintfTickFormatter, \n",
    "                          ColorBar, HoverTool, ColumnDataSource)\n",
    "from bokeh.plotting import figure, output_file, output_noteboook, save, show\n",
    "from bokeh.resources import CDN\n",
    "\n",
    "output_notebook(CDN)"
   ]
  },
  {
   "cell_type": "code",
   "execution_count": null,
   "metadata": {},
   "outputs": [],
   "source": [
    "from visualization import Visualization"
   ]
  },
  {
   "cell_type": "code",
   "execution_count": 18,
   "metadata": {},
   "outputs": [],
   "source": [
    "viz = Visualization(p_enc, ut.col_dict, ut.c_out)"
   ]
  },
  {
   "cell_type": "code",
   "execution_count": 19,
   "metadata": {},
   "outputs": [
    {
     "data": {
      "text/html": [
       "\n",
       "    <div class=\"bk-root\">\n",
       "        <a href=\"https://bokeh.pydata.org\" target=\"_blank\" class=\"bk-logo bk-logo-small bk-logo-notebook\"></a>\n",
       "        <span id=\"44983cbe-85e0-4cab-a361-2c543a2bcbf5\">Loading BokehJS ...</span>\n",
       "    </div>"
      ]
     },
     "metadata": {},
     "output_type": "execute_result"
    },
    {
     "data": {},
     "metadata": {},
     "output_type": "display_data"
    },
    {
     "data": {
      "text/html": [
       "\n",
       "<div class=\"bk-root\">\n",
       "    <div class=\"bk-plotdiv\" id=\"c091ad1f-6d88-419b-a40d-2b323e7842e0\"></div>\n",
       "</div>"
      ]
     },
     "metadata": {},
     "output_type": "execute_result"
    },
    {
     "data": {},
     "metadata": {
      "application/vnd.bokehjs_exec.v0+json": {
       "id": "2c0879c5-8e28-40a0-8a5a-5766bc9d0384"
      }
     },
     "output_type": "display_data"
    },
    {
     "data": {
      "image/png": "[encoded data removed]",
      "text/plain": [
       "<matplotlib.figure.Figure at 0x1114562b0>"
      ]
     },
     "metadata": {},
     "output_type": "display_data"
    }
   ],
   "source": [
    "viz.scatterplot_dendrogram(feat_scaled_df, feat_subc, 20, 10)"
   ]
  },
  {
   "cell_type": "markdown",
   "metadata": {},
   "source": [
    "**TODO**: HEAT-Maps are not rendered"
   ]
  },
  {
   "cell_type": "code",
   "execution_count": 20,
   "metadata": {},
   "outputs": [
    {
     "data": {
      "text/html": [
       "\n",
       "    <div class=\"bk-root\">\n",
       "        <a href=\"https://bokeh.pydata.org\" target=\"_blank\" class=\"bk-logo bk-logo-small bk-logo-notebook\"></a>\n",
       "        <span id=\"4b920ce9-8c40-4591-b3f3-c629c2709b5a\">Loading BokehJS ...</span>\n",
       "    </div>"
      ]
     },
     "metadata": {},
     "output_type": "execute_result"
    },
    {
     "data": {},
     "metadata": {},
     "output_type": "display_data"
    },
    {
     "data": {
      "text/html": [
       "\n",
       "<div class=\"bk-root\">\n",
       "    <div class=\"bk-plotdiv\" id=\"dda8d19b-1675-4150-8ae7-9a904c4e3e36\"></div>\n",
       "</div>"
      ]
     },
     "metadata": {},
     "output_type": "execute_result"
    },
    {
     "data": {},
     "metadata": {
      "application/vnd.bokehjs_exec.v0+json": {
       "id": "69989d9e-c719-4d25-ac69-5a071830749c"
      }
     },
     "output_type": "display_data"
    }
   ],
   "source": [
    "viz.heatmap_feat(feat_df, feat_scaled_df, feat_subc, 1000, 1800)"
   ]
  },
  {
   "cell_type": "code",
   "execution_count": 21,
   "metadata": {},
   "outputs": [
    {
     "data": {
      "text/html": [
       "\n",
       "    <div class=\"bk-root\">\n",
       "        <a href=\"https://bokeh.pydata.org\" target=\"_blank\" class=\"bk-logo bk-logo-small bk-logo-notebook\"></a>\n",
       "        <span id=\"4cd5cb55-161e-4815-9443-1e843a5f788e\">Loading BokehJS ...</span>\n",
       "    </div>"
      ]
     },
     "metadata": {},
     "output_type": "execute_result"
    },
    {
     "data": {},
     "metadata": {},
     "output_type": "display_data"
    },
    {
     "data": {
      "text/html": [
       "\n",
       "<div class=\"bk-root\">\n",
       "    <div class=\"bk-plotdiv\" id=\"34751432-3eaa-460e-9288-71c95b314223\"></div>\n",
       "</div>"
      ]
     },
     "metadata": {},
     "output_type": "execute_result"
    },
    {
     "data": {},
     "metadata": {
      "application/vnd.bokehjs_exec.v0+json": {
       "id": "9b50c67a-c1ce-4c20-abff-553f5b8c41d2"
      }
     },
     "output_type": "display_data"
    },
    {
     "data": {
      "image/png": "[encoded data removed]",
      "text/plain": [
       "<matplotlib.figure.Figure at 0x1a201eb550>"
      ]
     },
     "metadata": {},
     "output_type": "display_data"
    }
   ],
   "source": [
    "viz.scatterplot_dendrogram(svd_mtx_l4, tfidf_subc, 20, 10)"
   ]
  },
  {
   "cell_type": "code",
   "execution_count": 22,
   "metadata": {},
   "outputs": [
    {
     "data": {
      "text/html": [
       "\n",
       "<div class=\"bk-root\">\n",
       "    <div class=\"bk-plotdiv\" id=\"adb914e5-b79e-4d16-967b-cd33d0c43e96\"></div>\n",
       "</div>"
      ]
     },
     "metadata": {},
     "output_type": "execute_result"
    },
    {
     "data": {},
     "metadata": {
      "application/vnd.bokehjs_exec.v0+json": {
       "id": "ac123010-7010-405c-8266-5fe597e932ca"
      }
     },
     "output_type": "display_data"
    }
   ],
   "source": [
    "viz.heatmap_emb(out_behr_lev4, idx_to_lab4, tfidf_subc, 500, 2000)"
   ]
  },
  {
   "cell_type": "code",
   "execution_count": 23,
   "metadata": {},
   "outputs": [
    {
     "data": {
      "text/html": [
       "\n",
       "    <div class=\"bk-root\">\n",
       "        <a href=\"https://bokeh.pydata.org\" target=\"_blank\" class=\"bk-logo bk-logo-small bk-logo-notebook\"></a>\n",
       "        <span id=\"8d0d1f92-a902-43e8-82e9-03e61e377049\">Loading BokehJS ...</span>\n",
       "    </div>"
      ]
     },
     "metadata": {},
     "output_type": "execute_result"
    },
    {
     "data": {},
     "metadata": {},
     "output_type": "display_data"
    },
    {
     "data": {
      "text/html": [
       "\n",
       "<div class=\"bk-root\">\n",
       "    <div class=\"bk-plotdiv\" id=\"436a3229-f635-4416-96c8-6099e3beaa5f\"></div>\n",
       "</div>"
      ]
     },
     "metadata": {},
     "output_type": "execute_result"
    },
    {
     "data": {},
     "metadata": {
      "application/vnd.bokehjs_exec.v0+json": {
       "id": "2907844b-65f0-4a85-885a-0217398e6fc7"
      }
     },
     "output_type": "display_data"
    },
    {
     "data": {
      "image/png": "[encoded data removed]",
      "text/plain": [
       "<matplotlib.figure.Figure at 0x1a2503be48>"
      ]
     },
     "metadata": {},
     "output_type": "display_data"
    }
   ],
   "source": [
    "viz.scatterplot_dendrogram(glove_emb_l4, glv_subc, 20, 10)"
   ]
  },
  {
   "cell_type": "code",
   "execution_count": 24,
   "metadata": {},
   "outputs": [
    {
     "data": {
      "text/html": [
       "\n",
       "<div class=\"bk-root\">\n",
       "    <div class=\"bk-plotdiv\" id=\"a26a3294-697d-4bbe-827f-259a4aed1509\"></div>\n",
       "</div>"
      ]
     },
     "metadata": {},
     "output_type": "execute_result"
    },
    {
     "data": {},
     "metadata": {
      "application/vnd.bokehjs_exec.v0+json": {
       "id": "d66cc549-becc-4f47-9c7a-afa7691f32f1"
      }
     },
     "output_type": "display_data"
    }
   ],
   "source": [
    "viz.heatmap_emb(out_behr_lev4, idx_to_lab4, glv_subc, 500, 2000)"
   ]
  }
 ],
 "metadata": {
  "kernelspec": {
   "display_name": "Python 3",
   "language": "python",
   "name": "python3"
  },
  "language_info": {
   "codemirror_mode": {
    "name": "ipython",
    "version": 3
   },
   "file_extension": ".py",
   "mimetype": "text/x-python",
   "name": "python",
   "nbconvert_exporter": "python",
   "pygments_lexer": "ipython3",
   "version": "3.6.8"
  }
 },
 "nbformat": 4,
 "nbformat_minor": 2
}
